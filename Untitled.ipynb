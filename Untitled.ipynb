{
 "cells": [
  {
   "cell_type": "code",
   "execution_count": 27,
   "metadata": {},
   "outputs": [],
   "source": [
    "import h5py\n",
    "import numpy as np\n",
    "import librosa\n",
    "import wgan"
   ]
  },
  {
   "cell_type": "code",
   "execution_count": 2,
   "metadata": {},
   "outputs": [
    {
     "name": "stdout",
     "output_type": "stream",
     "text": [
      "List of arrays in input file: KeysView(<HDF5 file \"vctk-speaker1-train.4.16000.8192.4096.h5\" (mode r)>)\n",
      "Shape of X: (3328, 8192, 1)\n",
      "Shape of Y: (3328, 8192, 1)\n"
     ]
    }
   ],
   "source": [
    "def load_h5(h5_path):\n",
    "  # load training data\n",
    "  with h5py.File(h5_path, 'r') as hf:\n",
    "    print('List of arrays in input file:', hf.keys())\n",
    "    X = np.array(hf.get('data'))\n",
    "    Y = np.array(hf.get('label'))\n",
    "    print('Shape of X:', X.shape)\n",
    "    print('Shape of Y:', Y.shape)\n",
    "\n",
    "  return X, Y\n",
    "\n",
    "X_train_, Y_train_ = load_h5('./data/vctk/speaker1/vctk-speaker1-train.4.16000.8192.4096.h5')"
   ]
  },
  {
   "cell_type": "code",
   "execution_count": 9,
   "metadata": {},
   "outputs": [],
   "source": [
    "librosa.output.write_wav(\"test_hr.wav\", Y_train_[1], 16000)"
   ]
  },
  {
   "cell_type": "code",
   "execution_count": 30,
   "metadata": {},
   "outputs": [
    {
     "name": "stdout",
     "output_type": "stream",
     "text": [
      "_________________________________________________________________\n",
      "Layer (type)                 Output Shape              Param #   \n",
      "=================================================================\n",
      "input_10 (InputLayer)        (None, 8192, 1)           0         \n",
      "_________________________________________________________________\n",
      "conv1d_37 (Conv1D)           (None, 8192, 64)          256       \n",
      "_________________________________________________________________\n",
      "leaky_re_lu_34 (LeakyReLU)   (None, 8192, 64)          0         \n",
      "_________________________________________________________________\n",
      "conv1d_38 (Conv1D)           (None, 4096, 64)          12352     \n",
      "_________________________________________________________________\n",
      "leaky_re_lu_35 (LeakyReLU)   (None, 4096, 64)          0         \n",
      "_________________________________________________________________\n",
      "batch_normalization_16 (Batc (None, 4096, 64)          256       \n",
      "_________________________________________________________________\n",
      "conv1d_39 (Conv1D)           (None, 4096, 128)         24704     \n",
      "_________________________________________________________________\n",
      "leaky_re_lu_36 (LeakyReLU)   (None, 4096, 128)         0         \n",
      "_________________________________________________________________\n",
      "batch_normalization_17 (Batc (None, 4096, 128)         512       \n",
      "_________________________________________________________________\n",
      "conv1d_40 (Conv1D)           (None, 2048, 128)         49280     \n",
      "_________________________________________________________________\n",
      "leaky_re_lu_37 (LeakyReLU)   (None, 2048, 128)         0         \n",
      "_________________________________________________________________\n",
      "batch_normalization_18 (Batc (None, 2048, 128)         512       \n",
      "_________________________________________________________________\n",
      "conv1d_41 (Conv1D)           (None, 1024, 256)         98560     \n",
      "_________________________________________________________________\n",
      "leaky_re_lu_38 (LeakyReLU)   (None, 1024, 256)         0         \n",
      "_________________________________________________________________\n",
      "batch_normalization_19 (Batc (None, 1024, 256)         1024      \n",
      "_________________________________________________________________\n",
      "conv1d_42 (Conv1D)           (None, 512, 512)          393728    \n",
      "_________________________________________________________________\n",
      "leaky_re_lu_39 (LeakyReLU)   (None, 512, 512)          0         \n",
      "_________________________________________________________________\n",
      "batch_normalization_20 (Batc (None, 512, 512)          2048      \n",
      "_________________________________________________________________\n",
      "dense_7 (Dense)              (None, 512, 1024)         525312    \n",
      "_________________________________________________________________\n",
      "leaky_re_lu_40 (LeakyReLU)   (None, 512, 1024)         0         \n",
      "_________________________________________________________________\n",
      "flatten_4 (Flatten)          (None, 524288)            0         \n",
      "_________________________________________________________________\n",
      "dense_8 (Dense)              (None, 1)                 524289    \n",
      "=================================================================\n",
      "Total params: 1,632,833\n",
      "Trainable params: 1,630,657\n",
      "Non-trainable params: 2,176\n",
      "_________________________________________________________________\n",
      "_________________________________________________________________\n",
      "Layer (type)                 Output Shape              Param #   \n",
      "=================================================================\n",
      "input_11 (InputLayer)        (None, 8192, 1)           0         \n",
      "_________________________________________________________________\n",
      "conv1d_43 (Conv1D)           (None, 8192, 16)          64        \n",
      "_________________________________________________________________\n",
      "conv1d_44 (Conv1D)           (None, 8192, 128)         133248    \n",
      "_________________________________________________________________\n",
      "leaky_re_lu_41 (LeakyReLU)   (None, 8192, 128)         0         \n",
      "_________________________________________________________________\n",
      "conv1d_45 (Conv1D)           (None, 8192, 256)         1081600   \n",
      "_________________________________________________________________\n",
      "leaky_re_lu_42 (LeakyReLU)   (None, 8192, 256)         0         \n",
      "_________________________________________________________________\n",
      "conv1d_46 (Conv1D)           (None, 8184, 256)         590080    \n",
      "_________________________________________________________________\n",
      "up_sampling1d_7 (UpSampling1 (None, 16368, 256)        0         \n",
      "_________________________________________________________________\n",
      "conv1d_47 (Conv1D)           (None, 8184, 256)         2162944   \n",
      "_________________________________________________________________\n",
      "leaky_re_lu_43 (LeakyReLU)   (None, 8184, 256)         0         \n",
      "_________________________________________________________________\n",
      "dropout_7 (Dropout)          (None, 8184, 256)         0         \n",
      "_________________________________________________________________\n",
      "up_sampling1d_8 (UpSampling1 (None, 16368, 256)        0         \n",
      "_________________________________________________________________\n",
      "conv1d_48 (Conv1D)           (None, 8184, 128)         2130048   \n",
      "_________________________________________________________________\n",
      "leaky_re_lu_44 (LeakyReLU)   (None, 8184, 128)         0         \n",
      "_________________________________________________________________\n",
      "dropout_8 (Dropout)          (None, 8184, 128)         0         \n",
      "_________________________________________________________________\n",
      "activation_4 (Activation)    (None, 8184, 128)         0         \n",
      "_________________________________________________________________\n",
      "conv1d_transpose_4 (Conv1DTr (None, 8192, 1)           0         \n",
      "=================================================================\n",
      "Total params: 6,097,984\n",
      "Trainable params: 6,097,984\n",
      "Non-trainable params: 0\n",
      "_________________________________________________________________\n"
     ]
    }
   ],
   "source": [
    "model = wgan.WGAN()\n",
    "model.load_weights(\"./_generator.h5\", \"./_discriminator.h5\")"
   ]
  },
  {
   "cell_type": "code",
   "execution_count": 28,
   "metadata": {},
   "outputs": [
    {
     "ename": "AttributeError",
     "evalue": "'WGAN' object has no attribute 'save_model'",
     "output_type": "error",
     "traceback": [
      "\u001b[1;31m---------------------------------------------------------------------------\u001b[0m",
      "\u001b[1;31mAttributeError\u001b[0m                            Traceback (most recent call last)",
      "\u001b[1;32m<ipython-input-28-32199afe9fc0>\u001b[0m in \u001b[0;36m<module>\u001b[1;34m()\u001b[0m\n\u001b[1;32m----> 1\u001b[1;33m \u001b[0mmodel\u001b[0m\u001b[1;33m.\u001b[0m\u001b[0msave_model\u001b[0m\u001b[1;33m(\u001b[0m\u001b[1;34m\"4_blocks\"\u001b[0m\u001b[1;33m)\u001b[0m\u001b[1;33m\u001b[0m\u001b[0m\n\u001b[0m",
      "\u001b[1;31mAttributeError\u001b[0m: 'WGAN' object has no attribute 'save_model'"
     ]
    }
   ],
   "source": [
    "model.save_model(\"4_blocks\")"
   ]
  },
  {
   "cell_type": "code",
   "execution_count": 43,
   "metadata": {},
   "outputs": [],
   "source": [
    "pred = model.generator.predict_on_batch(X_train_[1].reshape((1,len(X_train_[100]),1)))"
   ]
  },
  {
   "cell_type": "code",
   "execution_count": 44,
   "metadata": {},
   "outputs": [],
   "source": [
    "pred = pred.flatten()"
   ]
  },
  {
   "cell_type": "code",
   "execution_count": 45,
   "metadata": {},
   "outputs": [],
   "source": [
    "librosa.output.write_wav(\"test_pr.wav\", pred, 16000)"
   ]
  },
  {
   "cell_type": "code",
   "execution_count": 20,
   "metadata": {},
   "outputs": [
    {
     "data": {
      "text/plain": [
       "(3328, 8192, 1)"
      ]
     },
     "execution_count": 20,
     "metadata": {},
     "output_type": "execute_result"
    }
   ],
   "source": [
    "X_train_.shape"
   ]
  },
  {
   "cell_type": "code",
   "execution_count": 16,
   "metadata": {},
   "outputs": [],
   "source": [
    "from matplotlib import pyplot as plt\n",
    "\n",
    "def get_spectrum(x, n_fft=2048):\n",
    "  S = librosa.stft(x, n_fft)\n",
    "  p = np.angle(S)\n",
    "  S = np.log1p(np.abs(S))\n",
    "  return S\n",
    "\n",
    "def save_spectrum(S, lim=800, outfile='spectrogram.png'):\n",
    "  plt.imshow(S.T, aspect=10)\n",
    "  # plt.xlim([0,lim])\n",
    "  plt.tight_layout()\n",
    "  plt.savefig(outfile)"
   ]
  },
  {
   "cell_type": "code",
   "execution_count": 46,
   "metadata": {},
   "outputs": [
    {
     "data": {
      "image/png": "[encoded data removed]",
      "text/plain": [
       "<Figure size 432x288 with 1 Axes>"
      ]
     },
     "metadata": {},
     "output_type": "display_data"
    }
   ],
   "source": [
    "S = get_spectrum(pred, n_fft=2048)\n",
    "save_spectrum(S, outfile='pr.png')\n",
    "S = get_spectrum(Y_train_[1].flatten(), n_fft=2048)\n",
    "save_spectrum(S, outfile='hr.png')\n",
    "S = get_spectrum(X_train_[1].flatten(), n_fft=2048)\n",
    "save_spectrum(S, outfile='lr.png')"
   ]
  },
  {
   "cell_type": "code",
   "execution_count": 47,
   "metadata": {},
   "outputs": [],
   "source": [
    "model.save_weights(\"./\")"
   ]
  },
  {
   "cell_type": "code",
   "execution_count": 51,
   "metadata": {},
   "outputs": [],
   "source": []
  },
  {
   "cell_type": "code",
   "execution_count": null,
   "metadata": {},
   "outputs": [],
   "source": []
  }
 ],
 "metadata": {
  "kernelspec": {
   "display_name": "Python 3",
   "language": "python",
   "name": "python3"
  },
  "language_info": {
   "codemirror_mode": {
    "name": "ipython",
    "version": 3
   },
   "file_extension": ".py",
   "mimetype": "text/x-python",
   "name": "python",
   "nbconvert_exporter": "python",
   "pygments_lexer": "ipython3",
   "version": "3.6.5"
  }
 },
 "nbformat": 4,
 "nbformat_minor": 2
}
